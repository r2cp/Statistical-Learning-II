{
 "cells": [
  {
   "cell_type": "code",
   "execution_count": 5,
   "metadata": {},
   "outputs": [],
   "source": [
    "import numpy as np\n",
    "import pandas as pd"
   ]
  },
  {
   "cell_type": "code",
   "execution_count": 9,
   "metadata": {},
   "outputs": [],
   "source": [
    "#data = np.genfromtxt(\"alturas-edades.tsv\", delimiter=\"\\t\")\n",
    "#data"
   ]
  },
  {
   "cell_type": "code",
   "execution_count": 16,
   "metadata": {},
   "outputs": [
    {
     "data": {
      "text/html": [
       "<div>\n",
       "<style scoped>\n",
       "    .dataframe tbody tr th:only-of-type {\n",
       "        vertical-align: middle;\n",
       "    }\n",
       "\n",
       "    .dataframe tbody tr th {\n",
       "        vertical-align: top;\n",
       "    }\n",
       "\n",
       "    .dataframe thead th {\n",
       "        text-align: right;\n",
       "    }\n",
       "</style>\n",
       "<table border=\"1\" class=\"dataframe\">\n",
       "  <thead>\n",
       "    <tr style=\"text-align: right;\">\n",
       "      <th></th>\n",
       "      <th>Estatura</th>\n",
       "      <th>Edad</th>\n",
       "    </tr>\n",
       "  </thead>\n",
       "  <tbody>\n",
       "    <tr>\n",
       "      <th>0</th>\n",
       "      <td>1.77</td>\n",
       "      <td>27.5</td>\n",
       "    </tr>\n",
       "    <tr>\n",
       "      <th>1</th>\n",
       "      <td>1.74</td>\n",
       "      <td>27.5</td>\n",
       "    </tr>\n",
       "    <tr>\n",
       "      <th>2</th>\n",
       "      <td>1.72</td>\n",
       "      <td>24.0</td>\n",
       "    </tr>\n",
       "    <tr>\n",
       "      <th>3</th>\n",
       "      <td>1.78</td>\n",
       "      <td>27.5</td>\n",
       "    </tr>\n",
       "    <tr>\n",
       "      <th>4</th>\n",
       "      <td>1.65</td>\n",
       "      <td>32.0</td>\n",
       "    </tr>\n",
       "  </tbody>\n",
       "</table>\n",
       "</div>"
      ],
      "text/plain": [
       "   Estatura  Edad\n",
       "0      1.77  27.5\n",
       "1      1.74  27.5\n",
       "2      1.72  24.0\n",
       "3      1.78  27.5\n",
       "4      1.65  32.0"
      ]
     },
     "execution_count": 16,
     "metadata": {},
     "output_type": "execute_result"
    }
   ],
   "source": [
    "data = pd.read_csv(\"alturas-edades.tsv\", delimiter=\"\\t\")\n",
    "# Obtener la media para corregir los datos faltantes\n",
    "data.Edad = data.Edad.fillna(data.Edad.mean())\n",
    "data.head()"
   ]
  },
  {
   "cell_type": "code",
   "execution_count": 18,
   "metadata": {},
   "outputs": [
    {
     "data": {
      "text/plain": [
       "array([[ 1.77,  1.74,  1.72,  1.78,  1.65,  1.66,  1.64,  1.85,  1.85,\n",
       "         1.75,  1.73,  1.79,  1.82,  1.65,  1.79,  1.72,  1.7 ,  1.57,\n",
       "         1.66,  1.75],\n",
       "       [27.5 , 27.5 , 24.  , 27.5 , 32.  , 27.5 , 27.5 , 27.5 , 26.  ,\n",
       "        27.5 , 27.5 , 27.5 , 27.5 , 27.5 , 27.5 , 34.  , 26.  , 25.  ,\n",
       "        26.  , 27.  ]])"
      ]
     },
     "execution_count": 18,
     "metadata": {},
     "output_type": "execute_result"
    }
   ],
   "source": [
    "data.values.T"
   ]
  },
  {
   "cell_type": "code",
   "execution_count": 19,
   "metadata": {},
   "outputs": [
    {
     "data": {
      "text/plain": [
       "array([[ 5.60500000e-03, -1.57894737e-03],\n",
       "       [-1.57894737e-03,  4.63157895e+00]])"
      ]
     },
     "execution_count": 19,
     "metadata": {},
     "output_type": "execute_result"
    }
   ],
   "source": [
    "np.cov(data.values.T)"
   ]
  },
  {
   "cell_type": "code",
   "execution_count": 26,
   "metadata": {},
   "outputs": [
    {
     "data": {
      "text/plain": [
       "array([ 1.7295, 27.5   ])"
      ]
     },
     "execution_count": 26,
     "metadata": {},
     "output_type": "execute_result"
    }
   ],
   "source": [
    "np.mean(data.values, axis=0)"
   ]
  },
  {
   "cell_type": "code",
   "execution_count": 25,
   "metadata": {},
   "outputs": [
    {
     "data": {
      "text/plain": [
       "array([[ 1.77, 27.5 ],\n",
       "       [ 1.74, 27.5 ],\n",
       "       [ 1.72, 24.  ],\n",
       "       [ 1.78, 27.5 ],\n",
       "       [ 1.65, 32.  ],\n",
       "       [ 1.66, 27.5 ],\n",
       "       [ 1.64, 27.5 ],\n",
       "       [ 1.85, 27.5 ],\n",
       "       [ 1.85, 26.  ],\n",
       "       [ 1.75, 27.5 ],\n",
       "       [ 1.73, 27.5 ],\n",
       "       [ 1.79, 27.5 ],\n",
       "       [ 1.82, 27.5 ],\n",
       "       [ 1.65, 27.5 ],\n",
       "       [ 1.79, 27.5 ],\n",
       "       [ 1.72, 34.  ],\n",
       "       [ 1.7 , 26.  ],\n",
       "       [ 1.57, 25.  ],\n",
       "       [ 1.66, 26.  ],\n",
       "       [ 1.75, 27.  ]])"
      ]
     },
     "execution_count": 25,
     "metadata": {},
     "output_type": "execute_result"
    }
   ],
   "source": [
    "from scipy.stats import multivariate_normal\n",
    "rv = multivariate_normal()"
   ]
  },
  {
   "cell_type": "code",
   "execution_count": null,
   "metadata": {},
   "outputs": [],
   "source": []
  }
 ],
 "metadata": {
  "kernelspec": {
   "display_name": "Python 3",
   "language": "python",
   "name": "python3"
  },
  "language_info": {
   "codemirror_mode": {
    "name": "ipython",
    "version": 3
   },
   "file_extension": ".py",
   "mimetype": "text/x-python",
   "name": "python",
   "nbconvert_exporter": "python",
   "pygments_lexer": "ipython3",
   "version": "3.7.2"
  }
 },
 "nbformat": 4,
 "nbformat_minor": 2
}

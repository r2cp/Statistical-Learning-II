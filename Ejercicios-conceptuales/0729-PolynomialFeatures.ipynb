{
 "cells": [
  {
   "cell_type": "markdown",
   "metadata": {},
   "source": [
    "# Maldición de dimensionalidad y *polynomial features*\n",
    "\n",
    "Universidad Galileo\n",
    "\n",
    "Rodrigo Rafael Chang Papa\n",
    "\n",
    "Carné: 19000625"
   ]
  },
  {
   "cell_type": "markdown",
   "metadata": {},
   "source": [
    "## Librerías"
   ]
  },
  {
   "cell_type": "code",
   "execution_count": 2,
   "metadata": {},
   "outputs": [],
   "source": [
    "from sklearn.preprocessing import PolynomialFeatures\n",
    "import numpy as np"
   ]
  },
  {
   "cell_type": "markdown",
   "metadata": {},
   "source": [
    "Vamos a generar datos de prueba para generar polinomios de diferentes grados y ver cómo crece el tamaño de las entradas de forma exponencial"
   ]
  },
  {
   "cell_type": "code",
   "execution_count": 3,
   "metadata": {},
   "outputs": [
    {
     "data": {
      "text/plain": [
       "array([[ 1.80998042e-01,  1.30237025e+00],\n",
       "       [ 1.60920633e-03,  7.87832311e-01],\n",
       "       [ 8.64784197e-01,  1.24215653e+00],\n",
       "       [-4.78945211e-01,  2.11565023e+00],\n",
       "       [-1.57013373e+00,  8.96278510e-02],\n",
       "       [-1.08222114e-02, -1.58379996e+00],\n",
       "       [ 6.38530017e-01, -1.07712041e-02],\n",
       "       [-8.83434829e-02, -5.09225354e-02],\n",
       "       [ 5.60517408e-01, -6.97659146e-01],\n",
       "       [ 1.63379240e+00, -1.09012486e+00]])"
      ]
     },
     "execution_count": 3,
     "metadata": {},
     "output_type": "execute_result"
    }
   ],
   "source": [
    "# Generamos datos de prueba\n",
    "X = np.random.randn(10,2)\n",
    "X"
   ]
  },
  {
   "cell_type": "code",
   "execution_count": 4,
   "metadata": {},
   "outputs": [
    {
     "data": {
      "text/plain": [
       "array([[ 1.00000000e+00,  1.80998042e-01,  1.30237025e+00,\n",
       "         3.27602914e-02,  2.35726466e-01,  1.69616827e+00],\n",
       "       [ 1.00000000e+00,  1.60920633e-03,  7.87832311e-01,\n",
       "         2.58954500e-06,  1.26778474e-03,  6.20679750e-01],\n",
       "       [ 1.00000000e+00,  8.64784197e-01,  1.24215653e+00,\n",
       "         7.47851708e-01,  1.07419734e+00,  1.54295284e+00],\n",
       "       [ 1.00000000e+00, -4.78945211e-01,  2.11565023e+00,\n",
       "         2.29388515e-01, -1.01328054e+00,  4.47597589e+00],\n",
       "       [ 1.00000000e+00, -1.57013373e+00,  8.96278510e-02,\n",
       "         2.46531992e+00, -1.40727712e-01,  8.03315167e-03],\n",
       "       [ 1.00000000e+00, -1.08222114e-02, -1.58379996e+00,\n",
       "         1.17120260e-04,  1.71402179e-02,  2.50842230e+00],\n",
       "       [ 1.00000000e+00,  6.38530017e-01, -1.07712041e-02,\n",
       "         4.07720583e-01, -6.87773716e-03,  1.16018838e-04],\n",
       "       [ 1.00000000e+00, -8.83434829e-02, -5.09225354e-02,\n",
       "         7.80457097e-03,  4.49867413e-03,  2.59310461e-03],\n",
       "       [ 1.00000000e+00,  5.60517408e-01, -6.97659146e-01,\n",
       "         3.14179764e-01, -3.91050096e-01,  4.86728284e-01],\n",
       "       [ 1.00000000e+00,  1.63379240e+00, -1.09012486e+00,\n",
       "         2.66927759e+00, -1.78103771e+00,  1.18837221e+00]])"
      ]
     },
     "execution_count": 4,
     "metadata": {},
     "output_type": "execute_result"
    }
   ],
   "source": [
    "poly = PolynomialFeatures(degree=2)\n",
    "X_transf = poly.fit_transform(X)\n",
    "X_transf"
   ]
  },
  {
   "cell_type": "code",
   "execution_count": 5,
   "metadata": {},
   "outputs": [
    {
     "data": {
      "text/plain": [
       "(10, 6)"
      ]
     },
     "execution_count": 5,
     "metadata": {},
     "output_type": "execute_result"
    }
   ],
   "source": [
    "X_transf.shape"
   ]
  },
  {
   "cell_type": "markdown",
   "metadata": {},
   "source": [
    "Ahora probamos con un polinomio de grado 3"
   ]
  },
  {
   "cell_type": "code",
   "execution_count": 6,
   "metadata": {},
   "outputs": [
    {
     "data": {
      "text/plain": [
       "(10, 10)"
      ]
     },
     "execution_count": 6,
     "metadata": {},
     "output_type": "execute_result"
    }
   ],
   "source": [
    "poly = PolynomialFeatures(degree=3)\n",
    "X_transf = poly.fit_transform(X)\n",
    "X_transf.shape"
   ]
  },
  {
   "cell_type": "markdown",
   "metadata": {},
   "source": [
    "Polinomio de grado 4, que genera ¡15 variables!"
   ]
  },
  {
   "cell_type": "code",
   "execution_count": 8,
   "metadata": {},
   "outputs": [
    {
     "data": {
      "text/plain": [
       "(10, 15)"
      ]
     },
     "execution_count": 8,
     "metadata": {},
     "output_type": "execute_result"
    }
   ],
   "source": [
    "poly = PolynomialFeatures(degree=4)\n",
    "X_transf = poly.fit_transform(X)\n",
    "X_transf.shape"
   ]
  },
  {
   "cell_type": "markdown",
   "metadata": {},
   "source": [
    "Polinomio de grado 100, que genera ¡5151 entradas!"
   ]
  },
  {
   "cell_type": "code",
   "execution_count": 10,
   "metadata": {},
   "outputs": [
    {
     "data": {
      "text/plain": [
       "(10, 5151)"
      ]
     },
     "execution_count": 10,
     "metadata": {},
     "output_type": "execute_result"
    }
   ],
   "source": [
    "poly = PolynomialFeatures(degree=100)\n",
    "X_transf = poly.fit_transform(X)\n",
    "X_transf.shape"
   ]
  },
  {
   "cell_type": "code",
   "execution_count": 11,
   "metadata": {},
   "outputs": [
    {
     "data": {
      "text/plain": [
       "array([[ 1.00000000e+000,  1.80998042e-001,  1.30237025e+000, ...,\n",
       "         5.74547028e+009,  4.13414945e+010,  2.97472458e+011],\n",
       "       [ 1.00000000e+000,  1.60920633e-003,  7.87832311e-001, ...,\n",
       "         1.83541686e-016,  8.98580052e-014,  4.39925190e-011],\n",
       "       [ 1.00000000e+000,  8.64784197e-001,  1.24215653e+000, ...,\n",
       "         1.26793058e+009,  1.82122691e+009,  2.61596929e+009],\n",
       "       ...,\n",
       "       [ 1.00000000e+000, -8.83434829e-002, -5.09225354e-002, ...,\n",
       "         1.47751141e-129,  8.51660183e-130,  4.90909961e-130],\n",
       "       [ 1.00000000e+000,  5.60517408e-001, -6.97659146e-001, ...,\n",
       "         1.49355358e-016, -1.85898119e-016,  2.31381793e-016],\n",
       "       [ 1.00000000e+000,  1.63379240e+000, -1.09012486e+000, ...,\n",
       "         1.25622001e+004, -8.38195027e+003,  5.59273773e+003]])"
      ]
     },
     "execution_count": 11,
     "metadata": {},
     "output_type": "execute_result"
    }
   ],
   "source": [
    "X_transf"
   ]
  },
  {
   "cell_type": "markdown",
   "metadata": {},
   "source": [
    "# Conclusiones\n",
    "\n",
    "Como se observa, conforme se aumenta el número de grados del polinomio, el espacio polinomial de *features*, o características de entrada, aumenta exponencialmente. Es por esto que es muy importante la aplicación de **feature engineering** para la selección de las variables y transformaciones más importantes. Sin embargo, como se mencionó en clase, lo que le toma a un humano para familiarizarse con los datos y las transformaciones importantes (semanas o meses), le puede tomar a un algoritmo de **deep learning** algunas horas de entrenamiento con una gran cantidad de datos."
   ]
  },
  {
   "cell_type": "code",
   "execution_count": null,
   "metadata": {},
   "outputs": [],
   "source": []
  }
 ],
 "metadata": {
  "kernelspec": {
   "display_name": "Python 3",
   "language": "python",
   "name": "python3"
  },
  "language_info": {
   "codemirror_mode": {
    "name": "ipython",
    "version": 3
   },
   "file_extension": ".py",
   "mimetype": "text/x-python",
   "name": "python",
   "nbconvert_exporter": "python",
   "pygments_lexer": "ipython3",
   "version": "3.7.2"
  }
 },
 "nbformat": 4,
 "nbformat_minor": 2
}

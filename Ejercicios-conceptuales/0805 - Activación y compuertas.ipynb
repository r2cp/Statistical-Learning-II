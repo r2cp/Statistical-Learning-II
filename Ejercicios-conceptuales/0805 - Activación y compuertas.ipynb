{
 "cells": [
  {
   "cell_type": "markdown",
   "metadata": {},
   "source": [
    "# Operaciones lógicas con perceptrones\n",
    "\n",
    "Universidad Galileo\n",
    "\n",
    "Rodrigo Rafael Chang Papa\n",
    "\n",
    "Carné: 19000625"
   ]
  },
  {
   "cell_type": "code",
   "execution_count": 1,
   "metadata": {},
   "outputs": [],
   "source": [
    "import numpy as np"
   ]
  },
  {
   "cell_type": "markdown",
   "metadata": {},
   "source": [
    "***\n",
    "## Función de activación\n",
    "Se utiliza una función de activación de escalón."
   ]
  },
  {
   "cell_type": "code",
   "execution_count": 4,
   "metadata": {},
   "outputs": [],
   "source": [
    "def activation(z):\n",
    "    return (z >= 0).astype(np.float)"
   ]
  },
  {
   "cell_type": "code",
   "execution_count": 5,
   "metadata": {},
   "outputs": [
    {
     "data": {
      "text/plain": [
       "array([1.])"
      ]
     },
     "execution_count": 5,
     "metadata": {},
     "output_type": "execute_result"
    }
   ],
   "source": [
    "activation(np.array([1]))"
   ]
  },
  {
   "cell_type": "markdown",
   "metadata": {},
   "source": [
    "## Transformación afin y definición del perceptrón básico"
   ]
  },
  {
   "cell_type": "code",
   "execution_count": 6,
   "metadata": {},
   "outputs": [],
   "source": [
    "# Se realiza el producto punto, en forma matricial, entre la entrada y las ponderaciones\n",
    "def affine_transf(x, weights):\n",
    "    return np.matmul(x, weights)"
   ]
  },
  {
   "cell_type": "code",
   "execution_count": 7,
   "metadata": {},
   "outputs": [
    {
     "data": {
      "text/plain": [
       "0.0"
      ]
     },
     "execution_count": 7,
     "metadata": {},
     "output_type": "execute_result"
    }
   ],
   "source": [
    "affine_transf(np.array([1, 1, 1.]), np.array([1.,1.,-2.]))"
   ]
  },
  {
   "cell_type": "code",
   "execution_count": 19,
   "metadata": {},
   "outputs": [],
   "source": [
    "# Definición del perceptrón básico con pesos 'weights'\n",
    "# Esta función recibe estrictamente entradas X con shape (n, 2) y\n",
    "# devuelve vectores (n, 1)\n",
    "def perceptron(x, weights):\n",
    "    x = np.column_stack((x, np.ones(x.shape[0])))\n",
    "    return activation(affine_transf(x, weights)).reshape(-1, 1)"
   ]
  },
  {
   "cell_type": "code",
   "execution_count": 20,
   "metadata": {},
   "outputs": [
    {
     "data": {
      "text/plain": [
       "array([[0., 0.],\n",
       "       [0., 1.],\n",
       "       [1., 0.],\n",
       "       [1., 1.]])"
      ]
     },
     "execution_count": 20,
     "metadata": {},
     "output_type": "execute_result"
    }
   ],
   "source": [
    "X = np.array([[0., 0.], [0., 1.], [1., 0.], [1., 1.]])\n",
    "X"
   ]
  },
  {
   "cell_type": "code",
   "execution_count": 21,
   "metadata": {},
   "outputs": [
    {
     "data": {
      "text/plain": [
       "array([[1.],\n",
       "       [1.],\n",
       "       [1.],\n",
       "       [1.]])"
      ]
     },
     "execution_count": 21,
     "metadata": {},
     "output_type": "execute_result"
    }
   ],
   "source": [
    "perceptron(X, np.array([1., 1., 0]))"
   ]
  },
  {
   "cell_type": "markdown",
   "metadata": {},
   "source": [
    "## Función AND"
   ]
  },
  {
   "cell_type": "code",
   "execution_count": 25,
   "metadata": {},
   "outputs": [
    {
     "name": "stdout",
     "output_type": "stream",
     "text": [
      "Entradas:\n",
      "[[0. 0.]\n",
      " [0. 1.]\n",
      " [1. 0.]\n",
      " [1. 1.]]\n",
      "Función lógica AND: \n",
      "[[0.]\n",
      " [0.]\n",
      " [0.]\n",
      " [1.]]\n"
     ]
    }
   ],
   "source": [
    "weights = np.array([10., 10., -15.])\n",
    "and_ = perceptron(X, weights)\n",
    "print(\"Entradas:\")\n",
    "print(X)\n",
    "print(\"Función lógica AND: \")\n",
    "print(and_)"
   ]
  },
  {
   "cell_type": "markdown",
   "metadata": {},
   "source": [
    "## Función OR"
   ]
  },
  {
   "cell_type": "code",
   "execution_count": 66,
   "metadata": {},
   "outputs": [
    {
     "name": "stdout",
     "output_type": "stream",
     "text": [
      "Entradas:\n",
      "[[0. 0.]\n",
      " [0. 1.]\n",
      " [1. 0.]\n",
      " [1. 1.]]\n",
      "Función lógica OR: \n",
      "[[0.]\n",
      " [1.]\n",
      " [1.]\n",
      " [1.]]\n"
     ]
    }
   ],
   "source": [
    "weights = np.array([20., 20., -10.])\n",
    "or_ = perceptron(np.array(X), weights)\n",
    "print(\"Entradas:\")\n",
    "print(X)\n",
    "print(\"Función lógica OR: \")\n",
    "print(or_)"
   ]
  },
  {
   "cell_type": "markdown",
   "metadata": {},
   "source": [
    "## Función NOT"
   ]
  },
  {
   "cell_type": "code",
   "execution_count": 29,
   "metadata": {},
   "outputs": [],
   "source": [
    "Y = np.array([0, 1]).reshape(-1, 1)"
   ]
  },
  {
   "cell_type": "code",
   "execution_count": 33,
   "metadata": {},
   "outputs": [
    {
     "name": "stdout",
     "output_type": "stream",
     "text": [
      "Entradas:\n",
      "[[0]\n",
      " [1]]\n",
      "Función lógica NOT: \n",
      "[[1.]\n",
      " [0.]]\n"
     ]
    }
   ],
   "source": [
    "weights = np.array([-1., 0.5])\n",
    "not_ = perceptron(np.array(Y), weights)\n",
    "\n",
    "print(\"Entradas:\")\n",
    "print(Y)\n",
    "print(\"Función lógica NOT: \")\n",
    "print(not_)"
   ]
  },
  {
   "cell_type": "markdown",
   "metadata": {},
   "source": [
    "##  Definición de función XOR"
   ]
  },
  {
   "cell_type": "markdown",
   "metadata": {},
   "source": [
    "Esta función se puede expresar de forma algebraica como: $$A \\oplus B = A\\cdot\\bar{B} + \\bar{A}\\cdot B$$\n",
    "\n",
    "Para su implementación, se utilizarán funciones anónimas compuestas de la función de `perceptron` (que recibe como argumentos de entrada arreglos de numpy con shape n, 2):"
   ]
  },
  {
   "cell_type": "code",
   "execution_count": 80,
   "metadata": {},
   "outputs": [],
   "source": [
    "and_fn = lambda a, b : perceptron(np.column_stack((a, b)), np.array([10., 10., -15.]))\n",
    "or_fn = lambda a, b : perceptron(np.column_stack((a, b)), np.array([20., 20., -10.]))\n",
    "not_fn = lambda x : perceptron(x, np.array([-1., 0.5]))"
   ]
  },
  {
   "cell_type": "markdown",
   "metadata": {},
   "source": [
    "De esta forma, la función XOR estaría dada por:"
   ]
  },
  {
   "cell_type": "code",
   "execution_count": 81,
   "metadata": {},
   "outputs": [],
   "source": [
    "xor_fn = lambda a, b : or_fn( and_fn(a, not_fn(b)), and_fn(not_fn(a), b) )"
   ]
  },
  {
   "cell_type": "code",
   "execution_count": 82,
   "metadata": {},
   "outputs": [
    {
     "name": "stdout",
     "output_type": "stream",
     "text": [
      "Entradas:\n",
      "[[0. 0.]\n",
      " [0. 1.]\n",
      " [1. 0.]\n",
      " [1. 1.]]\n",
      "Función lógica XOR: \n",
      "[[0.]\n",
      " [1.]\n",
      " [1.]\n",
      " [0.]]\n"
     ]
    }
   ],
   "source": [
    "# Obtenemos los valores de XOR\n",
    "print(\"Entradas:\")\n",
    "print(X)\n",
    "print(\"Función lógica XOR: \")\n",
    "print(xor_fn(X[:, 0], X[:, 1]))"
   ]
  },
  {
   "cell_type": "code",
   "execution_count": null,
   "metadata": {},
   "outputs": [],
   "source": []
  }
 ],
 "metadata": {
  "kernelspec": {
   "display_name": "Python 3",
   "language": "python",
   "name": "python3"
  },
  "language_info": {
   "codemirror_mode": {
    "name": "ipython",
    "version": 3
   },
   "file_extension": ".py",
   "mimetype": "text/x-python",
   "name": "python",
   "nbconvert_exporter": "python",
   "pygments_lexer": "ipython3",
   "version": "3.7.2"
  }
 },
 "nbformat": 4,
 "nbformat_minor": 2
}

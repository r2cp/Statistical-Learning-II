{
 "cells": [
  {
   "cell_type": "markdown",
   "metadata": {},
   "source": [
    "# Forward propagation XOR con diferentes compuertas\n",
    "\n",
    "Statistical Learning II\n",
    "\n",
    "Rodrigo Chang\n",
    "\n",
    "19000625"
   ]
  },
  {
   "cell_type": "markdown",
   "metadata": {},
   "source": [
    "<img src=\"network.png\" title=\"Diagrama de la red neuronal\">"
   ]
  },
  {
   "cell_type": "markdown",
   "metadata": {},
   "source": [
    "## Librería y funciones de activación y bias"
   ]
  },
  {
   "cell_type": "code",
   "execution_count": 63,
   "metadata": {},
   "outputs": [],
   "source": [
    "import numpy as np\n",
    "import matplotlib.pyplot as plt"
   ]
  },
  {
   "cell_type": "code",
   "execution_count": 49,
   "metadata": {},
   "outputs": [],
   "source": [
    "# Activación sigmoide\n",
    "def sigmoid(x):\n",
    "    return 1/(1+np.exp(-x))\n",
    "\n",
    "# Activación de escalón\n",
    "def heaviside(x):\n",
    "    return (x >= 0).astype(np.float)\n",
    "\n",
    "# Función para añadir el término de bias\n",
    "# x tiene shape (n, 1)\n",
    "def addBias(x):\n",
    "    return np.vstack((x, np.ones(x.shape[1])))"
   ]
  },
  {
   "cell_type": "markdown",
   "metadata": {},
   "source": [
    "## Desarrollo de prueba"
   ]
  },
  {
   "cell_type": "code",
   "execution_count": 5,
   "metadata": {},
   "outputs": [
    {
     "data": {
      "text/plain": [
       "array([[1],\n",
       "       [0]])"
      ]
     },
     "execution_count": 5,
     "metadata": {},
     "output_type": "execute_result"
    }
   ],
   "source": [
    "x = np.array([1, 0]).reshape(-1, 1)\n",
    "x"
   ]
  },
  {
   "cell_type": "code",
   "execution_count": 4,
   "metadata": {},
   "outputs": [
    {
     "data": {
      "text/plain": [
       "array([[ 20.,  20., -10.],\n",
       "       [-20., -20.,  30.]])"
      ]
     },
     "execution_count": 4,
     "metadata": {},
     "output_type": "execute_result"
    }
   ],
   "source": [
    "# Matriz de pesos de la primera capa\n",
    "W_1 = np.array([[20., 20., -10.], [-20., -20., 30.]])\n",
    "W_1"
   ]
  },
  {
   "cell_type": "code",
   "execution_count": 6,
   "metadata": {},
   "outputs": [
    {
     "data": {
      "text/plain": [
       "array([[10.],\n",
       "       [10.]])"
      ]
     },
     "execution_count": 6,
     "metadata": {},
     "output_type": "execute_result"
    }
   ],
   "source": [
    "# Productos punto en las neuronas\n",
    "z_1 = np.matmul(W_1, addBias(x))\n",
    "z_1"
   ]
  },
  {
   "cell_type": "code",
   "execution_count": 9,
   "metadata": {},
   "outputs": [
    {
     "data": {
      "text/plain": [
       "array([[1.],\n",
       "       [1.]])"
      ]
     },
     "execution_count": 9,
     "metadata": {},
     "output_type": "execute_result"
    }
   ],
   "source": [
    "# Activación en las neuronas\n",
    "h_1 = heaviside(z_1)\n",
    "h_1"
   ]
  },
  {
   "cell_type": "code",
   "execution_count": 10,
   "metadata": {},
   "outputs": [],
   "source": [
    "# Matriz de pesos de la capa de salida\n",
    "W_2 = np.array([[20, 20, -30]])"
   ]
  },
  {
   "cell_type": "code",
   "execution_count": 11,
   "metadata": {},
   "outputs": [
    {
     "data": {
      "text/plain": [
       "array([[10.]])"
      ]
     },
     "execution_count": 11,
     "metadata": {},
     "output_type": "execute_result"
    }
   ],
   "source": [
    "z_2 = np.matmul(W_2, addBias(h_1))\n",
    "z_2"
   ]
  },
  {
   "cell_type": "code",
   "execution_count": 13,
   "metadata": {},
   "outputs": [
    {
     "data": {
      "text/plain": [
       "array([[1.]])"
      ]
     },
     "execution_count": 13,
     "metadata": {},
     "output_type": "execute_result"
    }
   ],
   "source": [
    "h_2 = heaviside(z_2)\n",
    "h_2"
   ]
  },
  {
   "cell_type": "markdown",
   "metadata": {},
   "source": [
    "## Función vectorizada para efectuar el *forward propagation*"
   ]
  },
  {
   "cell_type": "code",
   "execution_count": 50,
   "metadata": {},
   "outputs": [],
   "source": [
    "# Función para evaluar la red neuronal que implementa XOR\n",
    "# x tiene shape (2, n)\n",
    "def forwardPropXOR(x, activation=heaviside, retHidden=False):\n",
    "    # Matriz de pesos de la primera capa y capa de salida\n",
    "    W_1 = np.array([[20., 20., -10.], [-20., -20., 30.]])\n",
    "    W_2 = np.array([[20, 20, -30]])\n",
    "    # Productos punto en las neuronas de la capa oculta\n",
    "    z_1 = np.matmul(W_1, addBias(x))\n",
    "    h_1 = activation(z_1)\n",
    "    # Capa de salida\n",
    "    z_2 = np.matmul(W_2, addBias(h_1))\n",
    "    y = activation(z_2)\n",
    "    \n",
    "    if retHidden:\n",
    "        return y, h_1\n",
    "    return y"
   ]
  },
  {
   "cell_type": "code",
   "execution_count": 51,
   "metadata": {},
   "outputs": [
    {
     "data": {
      "text/plain": [
       "(array([[0, 0, 1, 1],\n",
       "        [0, 1, 0, 1]]), (2, 4))"
      ]
     },
     "execution_count": 51,
     "metadata": {},
     "output_type": "execute_result"
    }
   ],
   "source": [
    "# Obteniendo un conjunto de valores de entrada para la compuerta XOR\n",
    "X = np.array([[0,0], [0,1], [1,0], [1,1]])\n",
    "X = X.T\n",
    "X, X.shape"
   ]
  },
  {
   "cell_type": "code",
   "execution_count": 97,
   "metadata": {},
   "outputs": [
    {
     "data": {
      "text/plain": [
       "array([[0., 1., 1., 0.]])"
      ]
     },
     "execution_count": 97,
     "metadata": {},
     "output_type": "execute_result"
    }
   ],
   "source": [
    "# Evaluando la compuerta XOR con la activación heaviside\n",
    "forwardPropXOR(X)"
   ]
  },
  {
   "cell_type": "code",
   "execution_count": 53,
   "metadata": {},
   "outputs": [
    {
     "data": {
      "text/plain": [
       "array([[4.54391049e-05, 9.99954520e-01, 9.99954520e-01, 4.54391049e-05]])"
      ]
     },
     "execution_count": 53,
     "metadata": {},
     "output_type": "execute_result"
    }
   ],
   "source": [
    "# Evaluando la compuerta XOR con la activación heaviside\n",
    "forwardPropXOR(X, activation=sigmoid)"
   ]
  },
  {
   "cell_type": "markdown",
   "metadata": {},
   "source": [
    "## Gráfica de resultados de la capa oculta"
   ]
  },
  {
   "cell_type": "code",
   "execution_count": 58,
   "metadata": {},
   "outputs": [
    {
     "data": {
      "text/plain": [
       "array([[0., 1., 1., 1.],\n",
       "       [1., 1., 1., 0.]])"
      ]
     },
     "execution_count": 58,
     "metadata": {},
     "output_type": "execute_result"
    }
   ],
   "source": [
    "# Para las 4 combinaciones en X, obtenemos resultados en la capa oculta\n",
    "# Primera fila es h_1 del diagrama\n",
    "# Segunda fila es h_2 del diagrama\n",
    "_, h = forwardPropXOR(X, retHidden=True)\n",
    "h"
   ]
  },
  {
   "cell_type": "code",
   "execution_count": 59,
   "metadata": {
    "scrolled": true
   },
   "outputs": [
    {
     "data": {
      "text/plain": [
       "array([[0, 0, 1, 1],\n",
       "       [0, 1, 0, 1]])"
      ]
     },
     "execution_count": 59,
     "metadata": {},
     "output_type": "execute_result"
    }
   ],
   "source": [
    "X"
   ]
  },
  {
   "cell_type": "code",
   "execution_count": 87,
   "metadata": {},
   "outputs": [],
   "source": [
    "def graficarNeurona(x1, x2, y):\n",
    "    f = np.abs(y-1) < 0.1\n",
    "    nf = np.logical_not(f)\n",
    "\n",
    "    plt.scatter(x1[f], x2[f], marker='*', label='1')\n",
    "    plt.scatter(x1[nf], x2[nf], marker='o', label='0')\n",
    "    plt.legend()"
   ]
  },
  {
   "cell_type": "code",
   "execution_count": 107,
   "metadata": {},
   "outputs": [
    {
     "data": {
      "image/png": "[encoded data removed]",
      "text/plain": [
       "<Figure size 1152x288 with 3 Axes>"
      ]
     },
     "metadata": {
      "needs_background": "light"
     },
     "output_type": "display_data"
    }
   ],
   "source": [
    "# Gráfica de las neuronas de la capa intermedia y salida\n",
    "x1 = X[0, :]\n",
    "x2 = X[1, :]\n",
    "\n",
    "plt.figure(figsize=(16, 4))\n",
    "plt.subplot(1,3,1)\n",
    "graficarNeurona(x1, x2, h[0, :])\n",
    "plt.title(\"h_1\")\n",
    "plt.subplot(1,3,2)\n",
    "graficarNeurona(x1, x2, h[1, :])\n",
    "plt.title(\"h_2\")\n",
    "plt.subplot(1,3,3)\n",
    "graficarNeurona(x1, x2, forwardPropXOR(X).squeeze())\n",
    "plt.title(\"y\");"
   ]
  },
  {
   "cell_type": "markdown",
   "metadata": {},
   "source": [
    "***\n",
    "## Conclusiones\n",
    "Como se observa de la salida obtenida de las neuronas en la capa intermedia, estas actúan como compuertas AND, permitiendo una activación positiva solo para una combinación en particular. La neurona de salida actúa como una compuerta OR, permitiendo que las dos combinaciones positivas de la capa oculta se manifiesten en la salida, conformando la función lógica XOR."
   ]
  },
  {
   "cell_type": "code",
   "execution_count": null,
   "metadata": {},
   "outputs": [],
   "source": []
  }
 ],
 "metadata": {
  "kernelspec": {
   "display_name": "Python 3",
   "language": "python",
   "name": "python3"
  },
  "language_info": {
   "codemirror_mode": {
    "name": "ipython",
    "version": 3
   },
   "file_extension": ".py",
   "mimetype": "text/x-python",
   "name": "python",
   "nbconvert_exporter": "python",
   "pygments_lexer": "ipython3",
   "version": "3.7.2"
  }
 },
 "nbformat": 4,
 "nbformat_minor": 2
}

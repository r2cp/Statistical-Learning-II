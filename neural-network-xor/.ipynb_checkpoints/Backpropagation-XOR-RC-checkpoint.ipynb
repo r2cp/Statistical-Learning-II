{
 "cells": [
  {
   "cell_type": "markdown",
   "metadata": {},
   "source": [
    "# XOR - *Forward propagation* y *backpropagation*\n",
    "\n",
    "Statistical Learning II\n",
    "\n",
    "Rodrigo Chang\n",
    "\n",
    "19000625"
   ]
  },
  {
   "cell_type": "markdown",
   "metadata": {},
   "source": [
    "***\n",
    "## Librerías y funciones de activación y bias"
   ]
  },
  {
   "cell_type": "code",
   "execution_count": 4,
   "metadata": {},
   "outputs": [],
   "source": [
    "import numpy as np\n",
    "import matplotlib.pyplot as plt"
   ]
  },
  {
   "cell_type": "code",
   "execution_count": 5,
   "metadata": {},
   "outputs": [],
   "source": [
    "# Activación sigmoide\n",
    "def sigmoid(x):\n",
    "    return 1/(1+np.exp(-x))\n",
    "\n",
    "# Activación de escalón\n",
    "def heaviside(x):\n",
    "    return (x >= 0).astype(np.float)\n",
    "\n",
    "# Función de activación ReLU\n",
    "def ReLU(x):\n",
    "    return np.maximum(0., x)\n",
    "\n",
    "def ReLU_gradient(x):\n",
    "    return (x > 0).astype(np.float)\n",
    "\n",
    "def linearAct(x):\n",
    "    return x\n",
    "\n",
    "# Función para añadir el término de bias a la primera fila\n",
    "# x tiene shape (n, k)\n",
    "# Devuelve matriz con tamaño (n+1, k)\n",
    "def addBias(x):\n",
    "    return np.vstack((np.ones(x.shape[1]), x))\n",
    "\n",
    "# Función para quitar el término de bias de la primera fila\n",
    "# x tiene shape (n+1, k)\n",
    "# Devuelve matriz con tamaño (n, k)\n",
    "def removeBias(x):\n",
    "    return x[1:, :].reshape(-1, x.shape[1])"
   ]
  },
  {
   "cell_type": "code",
   "execution_count": 6,
   "metadata": {},
   "outputs": [
    {
     "data": {
      "text/plain": [
       "array([0.26894142, 0.5       , 0.73105858, 0.88079708])"
      ]
     },
     "execution_count": 6,
     "metadata": {},
     "output_type": "execute_result"
    }
   ],
   "source": [
    "sigmoid(np.array([-1, 0., 1., 2.]))"
   ]
  },
  {
   "cell_type": "code",
   "execution_count": 7,
   "metadata": {},
   "outputs": [
    {
     "data": {
      "text/plain": [
       "array([0., 0., 1., 2.])"
      ]
     },
     "execution_count": 7,
     "metadata": {},
     "output_type": "execute_result"
    }
   ],
   "source": [
    "ReLU(np.array([-1, 0., 1., 2.]))"
   ]
  },
  {
   "cell_type": "code",
   "execution_count": 8,
   "metadata": {},
   "outputs": [
    {
     "data": {
      "text/plain": [
       "array([0., 0., 1., 1.])"
      ]
     },
     "execution_count": 8,
     "metadata": {},
     "output_type": "execute_result"
    }
   ],
   "source": [
    "ReLU_gradient(np.array([-1, 0., 1., 2.]))"
   ]
  },
  {
   "cell_type": "markdown",
   "metadata": {},
   "source": [
    "***\n",
    "## Conjunto de datos de entrenamiento\n",
    "Definimos el conjunto de datos de entrenamiento. En este caso, queremos que la red neuronal aprenda la función XOR, por lo tanto, utilizaremos dos entradas y sus respectivas salidas conocidas."
   ]
  },
  {
   "cell_type": "code",
   "execution_count": 9,
   "metadata": {},
   "outputs": [
    {
     "data": {
      "text/plain": [
       "array([[0., 0.],\n",
       "       [0., 1.],\n",
       "       [1., 0.],\n",
       "       [1., 1.]])"
      ]
     },
     "execution_count": 9,
     "metadata": {},
     "output_type": "execute_result"
    }
   ],
   "source": [
    "Xtrain = np.array([[0., 0.], [0., 1.], [1., 0.], [1., 1.]])\n",
    "Xtrain"
   ]
  },
  {
   "cell_type": "code",
   "execution_count": 10,
   "metadata": {},
   "outputs": [
    {
     "data": {
      "text/plain": [
       "array([[0.],\n",
       "       [1.],\n",
       "       [1.],\n",
       "       [0.]])"
      ]
     },
     "execution_count": 10,
     "metadata": {},
     "output_type": "execute_result"
    }
   ],
   "source": [
    "Ytrain = np.array([0., 1., 1., 0.]).reshape(-1, 1)\n",
    "Ytrain"
   ]
  },
  {
   "cell_type": "code",
   "execution_count": 11,
   "metadata": {},
   "outputs": [
    {
     "data": {
      "text/plain": [
       "(array([[0., 0., 1., 1.],\n",
       "        [0., 1., 0., 1.]]), array([[0., 1., 1., 0.]]))"
      ]
     },
     "execution_count": 11,
     "metadata": {},
     "output_type": "execute_result"
    }
   ],
   "source": [
    "Xtrain.T, Ytrain.T"
   ]
  },
  {
   "cell_type": "markdown",
   "metadata": {},
   "source": [
    "***\n",
    "## Matrices de pesos sinápticos\n",
    "Definimos los pesos sinápticos iniciales de la red neuronal."
   ]
  },
  {
   "cell_type": "code",
   "execution_count": 12,
   "metadata": {},
   "outputs": [
    {
     "data": {
      "text/plain": [
       "array([[-0.00720114, -0.06186034, -0.02669813],\n",
       "       [-0.05996283, -0.00296675,  0.06820584],\n",
       "       [ 0.1484713 ,  0.00988095,  0.04911111]])"
      ]
     },
     "execution_count": 12,
     "metadata": {},
     "output_type": "execute_result"
    }
   ],
   "source": [
    "# Capa oculta 1\n",
    "k1 = 3\n",
    "Theta1 = np.random.normal(scale=0.1, size=(k1, 3))\n",
    "Theta1"
   ]
  },
  {
   "cell_type": "code",
   "execution_count": 13,
   "metadata": {},
   "outputs": [
    {
     "data": {
      "text/plain": [
       "array([[ 0.09305555,  0.16179438,  0.168242  , -0.07952591],\n",
       "       [-0.02557751,  0.05143957, -0.11717614,  0.06511632]])"
      ]
     },
     "execution_count": 13,
     "metadata": {},
     "output_type": "execute_result"
    }
   ],
   "source": [
    "# Capa oculta 2\n",
    "k2 = 2\n",
    "Theta2 = np.random.normal(scale=0.1, size=(k2, k1+1))\n",
    "Theta2"
   ]
  },
  {
   "cell_type": "code",
   "execution_count": 14,
   "metadata": {},
   "outputs": [
    {
     "data": {
      "text/plain": [
       "array([[ 0.01624594, -0.12037319, -0.10486895]])"
      ]
     },
     "execution_count": 14,
     "metadata": {},
     "output_type": "execute_result"
    }
   ],
   "source": [
    "# Capa de salida\n",
    "Theta3 = np.random.normal(scale=0.1, size=(1, 3))\n",
    "Theta3"
   ]
  },
  {
   "cell_type": "markdown",
   "metadata": {},
   "source": [
    "***\n",
    "## *Forward propagation* y cómputo de la salida"
   ]
  },
  {
   "cell_type": "code",
   "execution_count": 15,
   "metadata": {},
   "outputs": [
    {
     "data": {
      "text/plain": [
       "(array([[0., 0., 1., 1.],\n",
       "        [0., 1., 0., 1.]]), (2, 4))"
      ]
     },
     "execution_count": 15,
     "metadata": {},
     "output_type": "execute_result"
    }
   ],
   "source": [
    "Xtrain.T, Xtrain.T.shape"
   ]
  },
  {
   "cell_type": "code",
   "execution_count": 38,
   "metadata": {},
   "outputs": [],
   "source": [
    "def forwardProp(X, Theta1, Theta2, Theta3, retHidden=False):\n",
    "    # Primera capa oculta\n",
    "    z_2 = np.matmul(Theta1, addBias(X))\n",
    "    a_2 = ReLU(z_2)\n",
    "    # Segunda capa oculta\n",
    "    z_3 = np.matmul(Theta2, addBias(a_2))\n",
    "    a_3 = ReLU(z_3)\n",
    "    # Capa de salida\n",
    "    z_4 = np.matmul(Theta3, addBias(a_3))\n",
    "    a_4 = linearAct(z_4)\n",
    "    \n",
    "    if retHidden:\n",
    "        return a_3, a_4\n",
    "    \n",
    "    return a_4"
   ]
  },
  {
   "cell_type": "code",
   "execution_count": 39,
   "metadata": {},
   "outputs": [
    {
     "data": {
      "text/plain": [
       "array([[0.00646584, 0.00676903, 0.00656042, 0.0069237 ]])"
      ]
     },
     "execution_count": 39,
     "metadata": {},
     "output_type": "execute_result"
    }
   ],
   "source": [
    "forwardProp(Xtrain.T, Theta1, Theta2, Theta3)"
   ]
  },
  {
   "cell_type": "code",
   "execution_count": 19,
   "metadata": {},
   "outputs": [
    {
     "data": {
      "text/plain": [
       "array([[-0.0224109]])"
      ]
     },
     "execution_count": 19,
     "metadata": {},
     "output_type": "execute_result"
    }
   ],
   "source": [
    "forwardProp(np.array([100., 50.]).reshape(-1, 1), Theta1, Theta2, Theta3)"
   ]
  },
  {
   "cell_type": "markdown",
   "metadata": {},
   "source": [
    "***\n",
    "## *Backpropagation* de un ejemplo\n",
    "Propagación del error hacia atrás utilizando el ejemplo $(0, 1)$ cuya salida debería ser $1$."
   ]
  },
  {
   "cell_type": "code",
   "execution_count": 20,
   "metadata": {},
   "outputs": [
    {
     "data": {
      "text/plain": [
       "(array([[0.],\n",
       "        [1.]]), array([[1.]]))"
      ]
     },
     "execution_count": 20,
     "metadata": {},
     "output_type": "execute_result"
    }
   ],
   "source": [
    "Xtest = Xtrain[1, :].reshape(-1, 1)\n",
    "Ytest = Ytrain[1].reshape(-1,1)\n",
    "Xtest, Ytest"
   ]
  },
  {
   "cell_type": "code",
   "execution_count": 21,
   "metadata": {},
   "outputs": [
    {
     "data": {
      "text/plain": [
       "array([[-0.99323097]])"
      ]
     },
     "execution_count": 21,
     "metadata": {},
     "output_type": "execute_result"
    }
   ],
   "source": [
    "# Propagamos hacia adelante el ejemplo\n",
    "a_1 = addBias(Xtest)\n",
    "# Primera capa oculta\n",
    "z_2 = np.matmul(Theta1, a_1)\n",
    "a_2 = ReLU(z_2)\n",
    "# Segunda capa oculta\n",
    "a_2 = addBias(a_2)\n",
    "z_3 = np.matmul(Theta2, a_2)\n",
    "a_3 = ReLU(z_3)\n",
    "# Capa de salida\n",
    "a_3 = addBias(a_3)\n",
    "z_4 = np.matmul(Theta3, a_3)\n",
    "a_4 = linearAct(z_4)\n",
    "\n",
    "## Backpropagation\n",
    "# Computamos el error en la capa de salida: d_4\n",
    "d_4 = a_4 - Ytest\n",
    "d_4"
   ]
  },
  {
   "cell_type": "code",
   "execution_count": 22,
   "metadata": {},
   "outputs": [
    {
     "data": {
      "text/plain": [
       "array([[0.11955838],\n",
       "       [0.        ]])"
      ]
     },
     "execution_count": 22,
     "metadata": {},
     "output_type": "execute_result"
    }
   ],
   "source": [
    "# Propagamos hacia atrás\n",
    "d_3 = np.matmul(Theta3.T[1:], d_4) * ReLU_gradient(z_3)\n",
    "d_3"
   ]
  },
  {
   "cell_type": "code",
   "execution_count": 23,
   "metadata": {},
   "outputs": [
    {
     "data": {
      "text/plain": [
       "array([[ 0.        ],\n",
       "       [ 0.02011474],\n",
       "       [-0.00950799]])"
      ]
     },
     "execution_count": 23,
     "metadata": {},
     "output_type": "execute_result"
    }
   ],
   "source": [
    "# Propagamos hacia atrás\n",
    "d_2 = np.matmul(Theta2.T[1:, :], d_3) * ReLU_gradient(z_2)\n",
    "d_2"
   ]
  },
  {
   "cell_type": "markdown",
   "metadata": {},
   "source": [
    "### Matrices de cambio\n",
    "Construimos las matrices de cambio, para la actualización de las matrices de pesos sinápticos"
   ]
  },
  {
   "cell_type": "code",
   "execution_count": 24,
   "metadata": {},
   "outputs": [
    {
     "data": {
      "text/plain": [
       "array([[-0.99323097, -0.07819653,  0.        ]])"
      ]
     },
     "execution_count": 24,
     "metadata": {},
     "output_type": "execute_result"
    }
   ],
   "source": [
    "Delta3 = np.matmul(d_4, a_3.T)\n",
    "Delta3"
   ]
  },
  {
   "cell_type": "code",
   "execution_count": 25,
   "metadata": {},
   "outputs": [
    {
     "data": {
      "text/plain": [
       "array([[0.11955838, 0.        , 0.00098552, 0.02362263],\n",
       "       [0.        , 0.        , 0.        , 0.        ]])"
      ]
     },
     "execution_count": 25,
     "metadata": {},
     "output_type": "execute_result"
    }
   ],
   "source": [
    "Delta2 = np.matmul(d_3, a_2.T)\n",
    "Delta2"
   ]
  },
  {
   "cell_type": "code",
   "execution_count": 26,
   "metadata": {},
   "outputs": [
    {
     "data": {
      "text/plain": [
       "array([[ 0.        ,  0.        ,  0.        ],\n",
       "       [ 0.02011474,  0.        ,  0.02011474],\n",
       "       [-0.00950799,  0.        , -0.00950799]])"
      ]
     },
     "execution_count": 26,
     "metadata": {},
     "output_type": "execute_result"
    }
   ],
   "source": [
    "Delta1 = np.matmul(d_2, a_1.T)\n",
    "Delta1"
   ]
  },
  {
   "cell_type": "markdown",
   "metadata": {},
   "source": [
    "***\n",
    "## Función de costo"
   ]
  },
  {
   "cell_type": "code",
   "execution_count": 29,
   "metadata": {},
   "outputs": [],
   "source": [
    "def nnCosto(X, Y, Theta1, Theta2, Theta3):\n",
    "    \n",
    "    # Número de ejemplos\n",
    "    m = X.shape[0]\n",
    "    \n",
    "    # Definir el costo del conjunto con el MSE\n",
    "    error = forwardProp(X.T, Theta1, Theta2, Theta3).T - Y\n",
    "    # Función de costo\n",
    "    J = np.mean(np.power(error, 2)) / 2\n",
    "    \n",
    "    # Cómputo de los gradientes \n",
    "    Delta1 = np.zeros_like(Theta1)\n",
    "    Delta2 = np.zeros_like(Theta2)\n",
    "    Delta3 = np.zeros_like(Theta3)\n",
    "    \n",
    "    # Backpropagation para cada ejemplo\n",
    "    for i in range(m):\n",
    "        # Obtenemos el ejemplo i\n",
    "        Xi = X[i, :].reshape(-1, 1)\n",
    "        # Propagamos hacia adelante el ejemplo\n",
    "        a_1 = addBias(Xi)\n",
    "        # Primera capa oculta\n",
    "        z_2 = np.matmul(Theta1, a_1)\n",
    "        a_2 = ReLU(z_2)\n",
    "        # Segunda capa oculta\n",
    "        a_2 = addBias(a_2)\n",
    "        z_3 = np.matmul(Theta2, a_2)\n",
    "        a_3 = ReLU(z_3)\n",
    "        # Capa de salida\n",
    "        a_3 = addBias(a_3)\n",
    "        z_4 = np.matmul(Theta3, a_3)\n",
    "        a_4 = linearAct(z_4)\n",
    "    \n",
    "        # Computamos el error en la capa de salida y propagamos hacia atrás\n",
    "        d_4 = a_4 - Ytest\n",
    "        d_3 = np.matmul(Theta3.T[1:], d_4) * ReLU_gradient(z_3)\n",
    "        d_2 = np.matmul(Theta2.T[1:, :], d_3) * ReLU_gradient(z_2)\n",
    "        \n",
    "        # Matrices de cambio\n",
    "        Delta3 += np.matmul(d_4, a_3.T)\n",
    "        Delta2 += np.matmul(d_3, a_2.T)\n",
    "        Delta1 += np.matmul(d_2, a_1.T)\n",
    "    \n",
    "    Theta1_grad = Delta1 / m\n",
    "    Theta2_grad = Delta2 / m\n",
    "    Theta3_grad = Delta3 / m\n",
    "\n",
    "    return J, Theta1_grad, Theta2_grad, Theta3_grad"
   ]
  },
  {
   "cell_type": "code",
   "execution_count": 30,
   "metadata": {},
   "outputs": [
    {
     "data": {
      "text/plain": [
       "(0.2466899622269307, array([[ 0.        ,  0.        ,  0.        ],\n",
       "        [ 0.01005659,  0.0050279 ,  0.01005659],\n",
       "        [-0.00950884, -0.00475412, -0.00475362]]), array([[0.11956913, 0.        , 0.00040406, 0.02127887],\n",
       "        [0.        , 0.        , 0.        , 0.        ]]), array([[-0.99332025, -0.07894058,  0.        ]]))"
      ]
     },
     "execution_count": 30,
     "metadata": {},
     "output_type": "execute_result"
    }
   ],
   "source": [
    "nnCosto(Xtrain, Ytrain, Theta1, Theta2, Theta3)"
   ]
  },
  {
   "cell_type": "markdown",
   "metadata": {},
   "source": [
    "***\n",
    "## Implementación del gradiente en descenso para entrenamiento"
   ]
  },
  {
   "cell_type": "code",
   "execution_count": 31,
   "metadata": {},
   "outputs": [],
   "source": [
    "def entrenarNN(X, Y, k1=3, k2=2, epochs=100, lr=0.001, statusRate=50):\n",
    "    \n",
    "    # Número de features\n",
    "    n = X.shape[1]\n",
    "    \n",
    "    # Matrices de pesos sinápticos aleatorias\n",
    "    Theta1 = np.random.normal(scale=0.05, size=(k1, n+1))\n",
    "    Theta2 = np.random.normal(scale=0.05, size=(k2, k1+1))\n",
    "    Theta3 = np.random.normal(scale=0.05, size=(1, 3))\n",
    "    \n",
    "    # Iterar sobre el número de epochs\n",
    "    for j in range(1, epochs+1):\n",
    "        # Obtener el costo y los gradientes\n",
    "        J, Theta1_grad, Theta2_grad, Theta3_grad = nnCosto(X, Y, Theta1, Theta2, Theta3)\n",
    "        \n",
    "        if (j % statusRate == 0):\n",
    "            print(\"Iteración: %d,\\tCosto: %0.4f\" % (j, J))\n",
    "        \n",
    "        # Actualizar los pesos sinápticos\n",
    "        Theta1 += -lr * Theta1_grad\n",
    "        Theta2 += -lr * Theta2_grad\n",
    "        Theta3 += -lr * Theta3_grad\n",
    "\n",
    "    return Theta1, Theta2, Theta3"
   ]
  },
  {
   "cell_type": "code",
   "execution_count": 32,
   "metadata": {},
   "outputs": [
    {
     "name": "stdout",
     "output_type": "stream",
     "text": [
      "Iteración: 500,\tCosto: 0.2093\n",
      "Iteración: 1000,\tCosto: 0.1920\n",
      "Iteración: 1500,\tCosto: 0.1774\n",
      "Iteración: 2000,\tCosto: 0.1651\n",
      "Iteración: 2500,\tCosto: 0.1550\n",
      "Iteración: 3000,\tCosto: 0.1467\n",
      "Iteración: 3500,\tCosto: 0.1401\n",
      "Iteración: 4000,\tCosto: 0.1349\n",
      "Iteración: 4500,\tCosto: 0.1310\n",
      "Iteración: 5000,\tCosto: 0.1282\n"
     ]
    }
   ],
   "source": [
    "Theta1_trained, Theta2_trained, Theta3_trained = entrenarNN(Xtrain, Ytrain, \n",
    "                                                            epochs=5000, lr=0.0001, statusRate=500)"
   ]
  },
  {
   "cell_type": "code",
   "execution_count": 33,
   "metadata": {},
   "outputs": [
    {
     "data": {
      "text/plain": [
       "array([[0.4203282 , 0.42030112, 0.42028216, 0.42027073]])"
      ]
     },
     "execution_count": 33,
     "metadata": {},
     "output_type": "execute_result"
    }
   ],
   "source": [
    "forwardProp(Xtrain.T, Theta1_trained, Theta2_trained, Theta3_trained)"
   ]
  },
  {
   "cell_type": "code",
   "execution_count": 34,
   "metadata": {},
   "outputs": [
    {
     "data": {
      "text/plain": [
       "array([[-0.07737857,  0.07665175,  0.00062168],\n",
       "       [-0.00348409, -0.01284265, -0.08364031],\n",
       "       [ 0.11100635, -0.08891323, -0.05230451]])"
      ]
     },
     "execution_count": 34,
     "metadata": {},
     "output_type": "execute_result"
    }
   ],
   "source": [
    "Theta1_trained"
   ]
  },
  {
   "cell_type": "code",
   "execution_count": 35,
   "metadata": {},
   "outputs": [
    {
     "data": {
      "text/plain": [
       "array([[-0.0038808 , -0.00094582, -0.03208755,  0.00058049],\n",
       "       [ 0.0434694 ,  0.05075939,  0.00527225, -0.02019826]])"
      ]
     },
     "execution_count": 35,
     "metadata": {},
     "output_type": "execute_result"
    }
   ],
   "source": [
    "Theta2_trained"
   ]
  },
  {
   "cell_type": "code",
   "execution_count": 36,
   "metadata": {},
   "outputs": [
    {
     "data": {
      "text/plain": [
       "array([[ 0.42138498,  0.04236947, -0.02563311]])"
      ]
     },
     "execution_count": 36,
     "metadata": {},
     "output_type": "execute_result"
    }
   ],
   "source": [
    "Theta3_trained"
   ]
  },
  {
   "cell_type": "markdown",
   "metadata": {},
   "source": [
    "### Visualización de la segunda capa oculta"
   ]
  },
  {
   "cell_type": "code",
   "execution_count": 57,
   "metadata": {},
   "outputs": [],
   "source": [
    "# Función para graficar los resultados de las dos neuronas de la segunda \n",
    "# capa oculta y de la salida\n",
    "def hiddenVizPlot(X, Theta1, Theta2, Theta3):\n",
    "    # Función para graficar cada una de las neuronas\n",
    "    def graficarNeurona(x1, x2, y):\n",
    "        f = np.abs(y-1) < 0.4\n",
    "        nf = np.logical_not(f)\n",
    "\n",
    "        plt.scatter(x1[f], x2[f], marker='*', label='1')\n",
    "        plt.scatter(x1[nf], x2[nf], marker='o', label='0')\n",
    "        plt.legend()\n",
    "        \n",
    "    # Obtener salidas de la capa oculta y final\n",
    "    a_3, a_4 = forwardProp(X.T, \n",
    "           Theta1, Theta2, Theta3, \n",
    "           retHidden=True)\n",
    "    \n",
    "    # Gráfica de las neuronas de la capa intermedia y salida\n",
    "    x1 = X.T[0]\n",
    "    x2 = X.T[1]\n",
    "\n",
    "    plt.figure(figsize=(16, 4))\n",
    "    plt.subplot(1,3,1)\n",
    "    graficarNeurona(x1, x2, a_3[0])\n",
    "    plt.title(\"a_3_1\")\n",
    "    plt.subplot(1,3,2)\n",
    "    graficarNeurona(x1, x2, a_3[1])\n",
    "    plt.title(\"a_3_2\")\n",
    "    plt.subplot(1,3,3)\n",
    "    graficarNeurona(x1, x2, a_4[0])\n",
    "    plt.title(\"a_4\");"
   ]
  },
  {
   "cell_type": "code",
   "execution_count": 58,
   "metadata": {},
   "outputs": [
    {
     "data": {
      "image/png": "[encoded data removed]",
      "text/plain": [
       "<Figure size 1152x288 with 3 Axes>"
      ]
     },
     "metadata": {
      "needs_background": "light"
     },
     "output_type": "display_data"
    }
   ],
   "source": [
    "hiddenVizPlot(Xtrain, Theta1_trained, Theta2_trained, Theta3_trained)"
   ]
  },
  {
   "cell_type": "markdown",
   "metadata": {},
   "source": [
    "***\n",
    "## Conclusiones\n",
    "\n",
    "Al implementar el algoritmo de *backpropagation* se obtienen las derivadas parciales de cada una de las ponderaciones en la red neuronal de 2 capas ocultas y una de salida. Esto permite minimizar la función de costos utilizando el algoritmo de *gradient descent*. Sin embargo, los resultados indican que la función de costo utilizada (error cuadrático medio) en conjunto con la función de activación lineal de salida, no funcionan bien para el problema de la red de aprender la función XOR. Posiblemente, el proceso de entrenamiento sería más efectivo utilizando una salida sigmoidal y una función de costo de entropía cruzada. "
   ]
  },
  {
   "cell_type": "code",
   "execution_count": null,
   "metadata": {},
   "outputs": [],
   "source": []
  }
 ],
 "metadata": {
  "kernelspec": {
   "display_name": "Python 3",
   "language": "python",
   "name": "python3"
  },
  "language_info": {
   "codemirror_mode": {
    "name": "ipython",
    "version": 3
   },
   "file_extension": ".py",
   "mimetype": "text/x-python",
   "name": "python",
   "nbconvert_exporter": "python",
   "pygments_lexer": "ipython3",
   "version": "3.7.2"
  }
 },
 "nbformat": 4,
 "nbformat_minor": 2
}

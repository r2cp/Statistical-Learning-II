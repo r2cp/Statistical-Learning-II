{
 "cells": [
  {
   "cell_type": "code",
   "execution_count": 1,
   "metadata": {},
   "outputs": [],
   "source": [
    "import numpy as np\n",
    "import tensorflow as tf"
   ]
  },
  {
   "cell_type": "code",
   "execution_count": 18,
   "metadata": {},
   "outputs": [],
   "source": [
    "# Función para añadir el término de bias a la primera fila\n",
    "# x tiene shape (n, k)\n",
    "# Devuelve matriz con tamaño (n+1, k)\n",
    "def addBias(x):\n",
    "    return np.vstack((np.ones(x.shape[1]), x))"
   ]
  },
  {
   "cell_type": "code",
   "execution_count": 5,
   "metadata": {},
   "outputs": [
    {
     "data": {
      "text/plain": [
       "array([[0., 0.],\n",
       "       [0., 1.],\n",
       "       [1., 0.],\n",
       "       [1., 1.]])"
      ]
     },
     "execution_count": 5,
     "metadata": {},
     "output_type": "execute_result"
    }
   ],
   "source": [
    "Xtrain = np.array([[0., 0.], [0., 1.], [1., 0.], [1., 1.]])\n",
    "Xtrain"
   ]
  },
  {
   "cell_type": "code",
   "execution_count": 3,
   "metadata": {},
   "outputs": [
    {
     "data": {
      "text/plain": [
       "array([[0.],\n",
       "       [1.],\n",
       "       [1.],\n",
       "       [0.]])"
      ]
     },
     "execution_count": 3,
     "metadata": {},
     "output_type": "execute_result"
    }
   ],
   "source": [
    "Ytrain = np.array([0., 1., 1., 0.]).reshape(-1, 1)\n",
    "Ytrain"
   ]
  },
  {
   "cell_type": "markdown",
   "metadata": {},
   "source": [
    "## Modelo en Tensorflow"
   ]
  },
  {
   "cell_type": "code",
   "execution_count": 91,
   "metadata": {},
   "outputs": [],
   "source": [
    "def entrenarModelo(x, y, k1=3, k2=2, epochs=100, learning_rate=0.05, status_rate=100):\n",
    "    \n",
    "    # Número de features\n",
    "    n = x.shape[1]\n",
    "    \n",
    "    # Definición del grafo\n",
    "    tf.reset_default_graph()\n",
    "    g = tf.Graph()\n",
    "    with g.as_default():\n",
    "        # Placeholders de datos\n",
    "        X = tf.placeholder(tf.float32, shape=(n, None), name=\"X\")\n",
    "        Y = tf.placeholder(tf.float32, shape=(1, None), name=\"Y\")\n",
    "        lr = tf.placeholder(tf.float32)\n",
    "        \n",
    "        # Pesos sinápticos\n",
    "        Theta1 = tf.Variable(tf.truncated_normal(shape=(k1, n)), name=\"W1\")\n",
    "        Theta2 = tf.Variable(tf.truncated_normal(shape=(k2, k1)), name=\"W2\")\n",
    "        Theta3 = tf.Variable(tf.truncated_normal(shape=(1, 2)), name=\"W3\")\n",
    "        # Bias\n",
    "        Theta1_0 = tf.Variable(tf.zeros(shape=(k1, 1)), name=\"W1_0\")\n",
    "        Theta2_0 = tf.Variable(tf.zeros(shape=(k2, 1)), name=\"W2_0\")\n",
    "        Theta3_0 = tf.Variable(tf.zeros(shape=(1, 1)), name=\"W3_0\")\n",
    "        \n",
    "        # Forward propagation\n",
    "        with tf.name_scope(\"fwd_prop\"):\n",
    "            # Primera capa oculta\n",
    "            a_2 = tf.nn.relu(tf.add(tf.matmul(Theta1, X), Theta1_0), name=\"a_2\")\n",
    "            # Segunda capa oculta\n",
    "            a_3 = tf.nn.relu(tf.add(tf.matmul(Theta2, a_2), Theta2_0), name=\"a_3\")\n",
    "            # capa de salida\n",
    "            a_4 = tf.add(tf.matmul(Theta3, a_3), Theta3_0, name=\"a_4\")\n",
    "            \n",
    "        # Función de costo\n",
    "        with tf.name_scope(\"cost_fn\"):\n",
    "            cost = tf.losses.mean_squared_error(labels=Y, predictions=a_4)\n",
    "            \n",
    "         # Gradient Descent Optimizer \n",
    "        with tf.name_scope(\"GradientDes.Optimizer\"):\n",
    "            optimizer = tf.train.GradientDescentOptimizer(learning_rate=lr).minimize(cost) \n",
    "        \n",
    "        # Global Variables Initializer \n",
    "        init = tf.global_variables_initializer()\n",
    "        \n",
    "    # Ejecución del grafo\n",
    "    with tf.Session(graph=g) as sess:\n",
    "        # Inicializar las variables del grafo \n",
    "        sess.run(init) \n",
    "        \n",
    "        # Iterar para cada epoch \n",
    "        for epoch in range(1, epochs+1): \n",
    "            # Ejecutar el optimizador de gradiente en descenso y el summary de costo\n",
    "            sess.run(optimizer, feed_dict = {X : x.T, Y : y.T, lr : learning_rate})\n",
    "            # Obtener el costo para imprimir\n",
    "            if epoch % status_rate == 0: \n",
    "                c = sess.run(cost, feed_dict = {X : x.T, Y : y.T, lr : learning_rate})\n",
    "                print(\"Epoch = %d,\\tCosto: %0.4f\" % (epoch, c))\n",
    "\n",
    "        # Obtener las matrices de pesos finales\n",
    "        W1, W2, W3, W1_0, W2_0, W3_0  = sess.run([Theta1, Theta2, Theta3, Theta1_0, Theta2_0, Theta3_0])\n",
    "        return W1, W2, W3, W1_0, W2_0, W3_0"
   ]
  },
  {
   "cell_type": "code",
   "execution_count": 92,
   "metadata": {},
   "outputs": [
    {
     "name": "stdout",
     "output_type": "stream",
     "text": [
      "Epoch = 100,\tCosto: 0.2543\n",
      "Epoch = 200,\tCosto: 0.2501\n",
      "Epoch = 300,\tCosto: 0.2500\n",
      "Epoch = 400,\tCosto: 0.2500\n",
      "Epoch = 500,\tCosto: 0.2500\n",
      "Epoch = 600,\tCosto: 0.2500\n",
      "Epoch = 700,\tCosto: 0.2500\n",
      "Epoch = 800,\tCosto: 0.2500\n",
      "Epoch = 900,\tCosto: 0.2500\n",
      "Epoch = 1000,\tCosto: 0.2500\n"
     ]
    }
   ],
   "source": [
    "W1, W2, W3, W1_0, W2_0, W3_0 = entrenarModelo(Xtrain, Ytrain, learning_rate=0.01, epochs=1000, status_rate=100)"
   ]
  },
  {
   "cell_type": "code",
   "execution_count": 103,
   "metadata": {},
   "outputs": [
    {
     "name": "stdout",
     "output_type": "stream",
     "text": [
      "[[-0.357879   -0.4056135 ]\n",
      " [ 0.03135432 -1.9029738 ]\n",
      " [ 0.21004152 -1.2075989 ]] \n",
      " [[ 0.        ]\n",
      " [-0.04152244]\n",
      " [-0.02947292]]\n"
     ]
    }
   ],
   "source": [
    "print(W1, \"\\n\", W1_0)"
   ]
  },
  {
   "cell_type": "code",
   "execution_count": 104,
   "metadata": {},
   "outputs": [
    {
     "name": "stdout",
     "output_type": "stream",
     "text": [
      "[[-0.05889202  1.1899521   0.3884971 ]\n",
      " [ 0.16063769 -0.5221472  -1.5411413 ]] \n",
      " [[-0.07431808]\n",
      " [ 0.        ]]\n"
     ]
    }
   ],
   "source": [
    "print(W2, \"\\n\", W2_0)"
   ]
  },
  {
   "cell_type": "code",
   "execution_count": 105,
   "metadata": {},
   "outputs": [
    {
     "name": "stdout",
     "output_type": "stream",
     "text": [
      "[[-1.0535052  -0.25866246]] \n",
      " [[0.49999925]]\n"
     ]
    }
   ],
   "source": [
    "print(W3, \"\\n\", W3_0)"
   ]
  },
  {
   "cell_type": "code",
   "execution_count": 113,
   "metadata": {},
   "outputs": [],
   "source": [
    "# Función de activación ReLU\n",
    "def ReLU(x):\n",
    "    return np.maximum(0., x)\n",
    "\n",
    "def forwardProp(X, W1, W2, W3, W1_0, W2_0, W3_0):\n",
    "    # Primera capa oculta\n",
    "    z_2 = np.matmul(W1, X) + W1_0\n",
    "    a_2 = ReLU(z_2)\n",
    "    # Segunda capa oculta\n",
    "    z_3 = np.matmul(W2, a_2) + W2_0\n",
    "    a_3 = ReLU(z_3)\n",
    "    # Capa de salida\n",
    "    z_4 = np.matmul(W3, a_3) + W3_0\n",
    "    a_4 = z_4\n",
    "    return a_4"
   ]
  },
  {
   "cell_type": "code",
   "execution_count": 114,
   "metadata": {},
   "outputs": [
    {
     "data": {
      "text/plain": [
       "array([[0.49999925, 0.49999925, 0.49999925, 0.49999925]])"
      ]
     },
     "execution_count": 114,
     "metadata": {},
     "output_type": "execute_result"
    }
   ],
   "source": [
    "forwardProp(Xtrain.T, W1, W2, W3, W1_0, W2_0, W3_0)"
   ]
  },
  {
   "cell_type": "code",
   "execution_count": 115,
   "metadata": {},
   "outputs": [
    {
     "name": "stdout",
     "output_type": "stream",
     "text": [
      "Epoch = 100,\tCosto: 0.2423\n",
      "Epoch = 200,\tCosto: 0.2355\n",
      "Epoch = 300,\tCosto: 0.2311\n",
      "Epoch = 400,\tCosto: 0.2254\n",
      "Epoch = 500,\tCosto: 0.2172\n",
      "Epoch = 600,\tCosto: 0.2101\n",
      "Epoch = 700,\tCosto: 0.2013\n",
      "Epoch = 800,\tCosto: 0.1913\n",
      "Epoch = 900,\tCosto: 0.1797\n",
      "Epoch = 1000,\tCosto: 0.1666\n"
     ]
    }
   ],
   "source": [
    "W1, W2, W3, W1_0, W2_0, W3_0 = entrenarModelo(Xtrain, Ytrain, learning_rate=0.01, epochs=1000, status_rate=100)"
   ]
  },
  {
   "cell_type": "code",
   "execution_count": 116,
   "metadata": {},
   "outputs": [
    {
     "data": {
      "text/plain": [
       "array([[0.47460448, 0.70204456, 0.49718089, 0.31533585]])"
      ]
     },
     "execution_count": 116,
     "metadata": {},
     "output_type": "execute_result"
    }
   ],
   "source": [
    "forwardProp(Xtrain.T, W1, W2, W3, W1_0, W2_0, W3_0)"
   ]
  },
  {
   "cell_type": "code",
   "execution_count": 118,
   "metadata": {},
   "outputs": [
    {
     "name": "stdout",
     "output_type": "stream",
     "text": [
      "Epoch = 100,\tCosto: 0.2188\n",
      "Epoch = 200,\tCosto: 0.1895\n",
      "Epoch = 300,\tCosto: 0.1768\n",
      "Epoch = 400,\tCosto: 0.1713\n",
      "Epoch = 500,\tCosto: 0.1686\n",
      "Epoch = 600,\tCosto: 0.1674\n",
      "Epoch = 700,\tCosto: 0.1669\n",
      "Epoch = 800,\tCosto: 0.1667\n",
      "Epoch = 900,\tCosto: 0.1667\n",
      "Epoch = 1000,\tCosto: 0.1667\n",
      "Epoch = 1100,\tCosto: 0.1667\n",
      "Epoch = 1200,\tCosto: 0.1667\n",
      "Epoch = 1300,\tCosto: 0.1667\n",
      "Epoch = 1400,\tCosto: 0.1667\n",
      "Epoch = 1500,\tCosto: 0.1667\n",
      "Epoch = 1600,\tCosto: 0.1667\n",
      "Epoch = 1700,\tCosto: 0.1667\n",
      "Epoch = 1800,\tCosto: 0.1667\n",
      "Epoch = 1900,\tCosto: 0.1667\n",
      "Epoch = 2000,\tCosto: 0.1667\n"
     ]
    }
   ],
   "source": [
    "W1, W2, W3, W1_0, W2_0, W3_0 = entrenarModelo(Xtrain, Ytrain, learning_rate=0.01, epochs=2000, status_rate=100)"
   ]
  },
  {
   "cell_type": "code",
   "execution_count": 119,
   "metadata": {},
   "outputs": [
    {
     "data": {
      "text/plain": [
       "array([[0.3333353 , 0.99999658, 0.3333353 , 0.3333353 ]])"
      ]
     },
     "execution_count": 119,
     "metadata": {},
     "output_type": "execute_result"
    }
   ],
   "source": [
    "forwardProp(Xtrain.T, W1, W2, W3, W1_0, W2_0, W3_0)"
   ]
  },
  {
   "cell_type": "markdown",
   "metadata": {},
   "source": [
    "## Prueba con activación sigmoide y función de costo de entropía cruzada"
   ]
  },
  {
   "cell_type": "code",
   "execution_count": 122,
   "metadata": {},
   "outputs": [],
   "source": [
    "def entrenarModeloSigmoid(x, y, k1=3, k2=2, epochs=100, learning_rate=0.05, status_rate=100):\n",
    "    \n",
    "    # Número de features\n",
    "    n = x.shape[1]\n",
    "    \n",
    "    # Definición del grafo\n",
    "    tf.reset_default_graph()\n",
    "    g = tf.Graph()\n",
    "    with g.as_default():\n",
    "        # Placeholders de datos\n",
    "        X = tf.placeholder(tf.float32, shape=(n, None), name=\"X\")\n",
    "        Y = tf.placeholder(tf.float32, shape=(1, None), name=\"Y\")\n",
    "        lr = tf.placeholder(tf.float32)\n",
    "        \n",
    "        # Pesos sinápticos\n",
    "        Theta1 = tf.Variable(tf.truncated_normal(shape=(k1, n)), name=\"W1\")\n",
    "        Theta2 = tf.Variable(tf.truncated_normal(shape=(k2, k1)), name=\"W2\")\n",
    "        Theta3 = tf.Variable(tf.truncated_normal(shape=(1, 2)), name=\"W3\")\n",
    "        # Bias\n",
    "        Theta1_0 = tf.Variable(tf.zeros(shape=(k1, 1)), name=\"W1_0\")\n",
    "        Theta2_0 = tf.Variable(tf.zeros(shape=(k2, 1)), name=\"W2_0\")\n",
    "        Theta3_0 = tf.Variable(tf.zeros(shape=(1, 1)), name=\"W3_0\")\n",
    "        \n",
    "        # Forward propagation\n",
    "        with tf.name_scope(\"fwd_prop\"):\n",
    "            # Primera capa oculta\n",
    "            a_2 = tf.nn.relu(tf.add(tf.matmul(Theta1, X), Theta1_0), name=\"a_2\")\n",
    "            # Segunda capa oculta\n",
    "            a_3 = tf.nn.relu(tf.add(tf.matmul(Theta2, a_2), Theta2_0), name=\"a_3\")\n",
    "            # capa de salida\n",
    "            z_4 = tf.add(tf.matmul(Theta3, a_3), Theta3_0, name=\"z_4\")\n",
    "            a_4 = tf.nn.sigmoid(z_4, name=\"a_4\")\n",
    "            \n",
    "        # Función de costo\n",
    "        with tf.name_scope(\"cost_fn\"):\n",
    "            #cost = tf.losses.mean_squared_error(labels=Y, predictions=a_4)\n",
    "            cost = tf.reduce_mean(tf.nn.sigmoid_cross_entropy_with_logits(labels=Y, logits=z_4))\n",
    "            \n",
    "         # Gradient Descent Optimizer \n",
    "        with tf.name_scope(\"GradientDes.Optimizer\"): \n",
    "            optimizer = tf.train.GradientDescentOptimizer(learning_rate=lr).minimize(cost) \n",
    "        \n",
    "        # Global Variables Initializer \n",
    "        init = tf.global_variables_initializer()\n",
    "        \n",
    "    # Ejecución del grafo\n",
    "    with tf.Session(graph=g) as sess:\n",
    "        # Inicializar las variables del grafo \n",
    "        sess.run(init) \n",
    "        \n",
    "        # Iterar para cada epoch \n",
    "        for epoch in range(1, epochs+1): \n",
    "            # Ejecutar el optimizador de gradiente en descenso y el summary de costo\n",
    "            sess.run(optimizer, feed_dict = {X : x.T, Y : y.T, lr : learning_rate})\n",
    "            # Obtener el costo para imprimir\n",
    "            if epoch % status_rate == 0: \n",
    "                c = sess.run(cost, feed_dict = {X : x.T, Y : y.T, lr : learning_rate})\n",
    "                print(\"Epoch = %d,\\tCosto: %0.4f\" % (epoch, c))\n",
    "\n",
    "        # Obtener las matrices de pesos finales\n",
    "        W1, W2, W3, W1_0, W2_0, W3_0  = sess.run([Theta1, Theta2, Theta3, Theta1_0, Theta2_0, Theta3_0])\n",
    "        return W1, W2, W3, W1_0, W2_0, W3_0"
   ]
  },
  {
   "cell_type": "code",
   "execution_count": 138,
   "metadata": {},
   "outputs": [],
   "source": [
    "def forwardPropSigmoid(X, W1, W2, W3, W1_0, W2_0, W3_0):\n",
    "    # Activación sigmoide\n",
    "    def sigmoid(x):\n",
    "        return 1/(1+np.exp(-x))\n",
    "    \n",
    "    # Primera capa oculta\n",
    "    z_2 = np.matmul(W1, X) + W1_0\n",
    "    a_2 = ReLU(z_2)\n",
    "    # Segunda capa oculta\n",
    "    z_3 = np.matmul(W2, a_2) + W2_0\n",
    "    a_3 = ReLU(z_3)\n",
    "    # Capa de salida\n",
    "    z_4 = np.matmul(W3, a_3) + W3_0\n",
    "    a_4 = sigmoid(z_4)\n",
    "    return a_4"
   ]
  },
  {
   "cell_type": "code",
   "execution_count": 141,
   "metadata": {},
   "outputs": [
    {
     "name": "stdout",
     "output_type": "stream",
     "text": [
      "Epoch = 500,\tCosto: 0.6301\n",
      "Epoch = 1000,\tCosto: 0.6171\n",
      "Epoch = 1500,\tCosto: 0.6050\n",
      "Epoch = 2000,\tCosto: 0.5919\n",
      "Epoch = 2500,\tCosto: 0.5771\n",
      "Epoch = 3000,\tCosto: 0.5606\n",
      "Epoch = 3500,\tCosto: 0.5421\n",
      "Epoch = 4000,\tCosto: 0.5218\n",
      "Epoch = 4500,\tCosto: 0.4998\n",
      "Epoch = 5000,\tCosto: 0.4760\n",
      "Epoch = 5500,\tCosto: 0.4509\n",
      "Epoch = 6000,\tCosto: 0.4246\n",
      "Epoch = 6500,\tCosto: 0.3988\n",
      "Epoch = 7000,\tCosto: 0.3742\n",
      "Epoch = 7500,\tCosto: 0.3506\n"
     ]
    }
   ],
   "source": [
    "W1, W2, W3, W1_0, W2_0, W3_0 = entrenarModeloSigmoid(Xtrain, Ytrain, \n",
    "                                                     learning_rate=0.001, epochs=7500, status_rate=500)"
   ]
  },
  {
   "cell_type": "code",
   "execution_count": 142,
   "metadata": {},
   "outputs": [
    {
     "data": {
      "text/plain": [
       "array([[0., 1., 1., 0.]])"
      ]
     },
     "execution_count": 142,
     "metadata": {},
     "output_type": "execute_result"
    }
   ],
   "source": [
    "(forwardPropSigmoid(Xtrain.T, W1, W2, W3, W1_0, W2_0, W3_0) > 0.5).astype(np.float)"
   ]
  },
  {
   "cell_type": "code",
   "execution_count": 143,
   "metadata": {},
   "outputs": [
    {
     "data": {
      "text/plain": [
       "array([[0.38548437, 0.84322165, 0.77268604, 0.38555346]])"
      ]
     },
     "execution_count": 143,
     "metadata": {},
     "output_type": "execute_result"
    }
   ],
   "source": [
    "forwardPropSigmoid(Xtrain.T, W1, W2, W3, W1_0, W2_0, W3_0)"
   ]
  },
  {
   "cell_type": "code",
   "execution_count": null,
   "metadata": {},
   "outputs": [],
   "source": []
  }
 ],
 "metadata": {
  "kernelspec": {
   "display_name": "Python 3",
   "language": "python",
   "name": "python3"
  },
  "language_info": {
   "codemirror_mode": {
    "name": "ipython",
    "version": 3
   },
   "file_extension": ".py",
   "mimetype": "text/x-python",
   "name": "python",
   "nbconvert_exporter": "python",
   "pygments_lexer": "ipython3",
   "version": "3.7.2"
  }
 },
 "nbformat": 4,
 "nbformat_minor": 2
}
